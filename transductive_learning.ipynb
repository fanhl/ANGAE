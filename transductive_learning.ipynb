{
 "cells": [
  {
   "cell_type": "code",
   "execution_count": 1,
   "metadata": {},
   "outputs": [],
   "source": [
    "import argparse\n",
    "import tensorflow as tf\n",
    "import numpy as np\n",
    "from utils.classifier import Classifier\n",
    "from utils import transd_process\n",
    "from utils import hop_utils as hopu\n",
    "from utils import sp_utils as spu\n",
    "import matplotlib\n",
    "%matplotlib inline\n",
    "import matplotlib.pyplot as plt\n",
    "import pysnooper\n",
    "import warnings\n",
    "warnings.filterwarnings('ignore')"
   ]
  },
  {
   "cell_type": "markdown",
   "metadata": {},
   "source": [
    "### 参数设置"
   ]
  },
  {
   "cell_type": "code",
   "execution_count": 2,
   "metadata": {},
   "outputs": [
    {
     "name": "stdout",
     "output_type": "stream",
     "text": [
      "Namespace(K=3, beta=0.5, dataset='cora', hidden_dims=[512, 128], lambd1=10, lambd2=50, lr=0.0001, n_epochs=200, seed=10)\n"
     ]
    }
   ],
   "source": [
    "def parse_args():\n",
    "    '''\n",
    "    Parses the arguments.\n",
    "    '''\n",
    "    parser = argparse.ArgumentParser(description=\"Run ANGAE.\")\n",
    "\n",
    "    parser.add_argument('--dataset', nargs='?', default='cora',\n",
    "                        help='Input dataset')\n",
    "\n",
    "    parser.add_argument('--lr', type=float, default=0.0001,\n",
    "                        help='Learning rate. Default is 0.0001.')\n",
    "\n",
    "    parser.add_argument('--n-epochs', default=200, type=int,\n",
    "                        help='Number of epochs')\n",
    "\n",
    "    parser.add_argument('--hidden_dims', type=list, nargs='+', default=[512, 128],\n",
    "                        help='Number of dimensions.')\n",
    "\n",
    "\n",
    "\n",
    "    parser.add_argument('--K', default=3, type=int,\n",
    "                        help='k-hops')   \n",
    "    parser.add_argument('--beta', default=0.5, type=int,\n",
    "                        help='beta') \n",
    "    parser.add_argument('--lambd1', default=10, type=int,\n",
    "                        help='lambd1')    \n",
    "    parser.add_argument('--lambd2', default=50, type=int,\n",
    "                        help='lambd2')  \n",
    "    parser.add_argument('--seed', default=10, type=int,\n",
    "                        help='seed')        \n",
    "    #return parser.parse_args()\n",
    "    return parser.parse_args(args=[]) # jupyter 使用paraer的方法 必须(args=[])\n",
    "#调用\n",
    "args = parse_args()  \n",
    "print(args)"
   ]
  },
  {
   "cell_type": "markdown",
   "metadata": {
    "heading_collapsed": true
   },
   "source": [
    "### 加载数据"
   ]
  },
  {
   "cell_type": "code",
   "execution_count": 3,
   "metadata": {
    "hidden": true
   },
   "outputs": [],
   "source": [
    "adj, X, Y, idx_train, idx_val, idx_test,X_target = transd_process.load_data(args.dataset)\n"
   ]
  },
  {
   "cell_type": "code",
   "execution_count": 4,
   "metadata": {
    "hidden": true
   },
   "outputs": [
    {
     "name": "stdout",
     "output_type": "stream",
     "text": [
      "(2708, 1433) (2708, 7) <class 'numpy.matrix'> <class 'numpy.ndarray'> <class 'numpy.ndarray'> (2708, 7)\n",
      "<class 'scipy.sparse.coo.coo_matrix'> (2708, 2708)\n",
      "range(0, 140)\n",
      "range(140, 640)\n",
      "1000\n",
      "5278.0\n"
     ]
    }
   ],
   "source": [
    "#观察数据\n",
    "print(X.shape,Y.shape,type(X),type(X_target),type(Y), Y.shape)\n",
    "print(type(adj),adj.shape)\n",
    "print(idx_train)\n",
    "print(idx_val)\n",
    "print(len(idx_test))\n",
    "print(len(adj.row)/2)"
   ]
  },
  {
   "cell_type": "code",
   "execution_count": 5,
   "metadata": {
    "hidden": true
   },
   "outputs": [
    {
     "name": "stdout",
     "output_type": "stream",
     "text": [
      "<class 'tuple'> <class 'numpy.ndarray'> <class 'numpy.ndarray'>\n",
      "(array([[   0,    0],\n",
      "       [   0,  633],\n",
      "       [   0, 1862],\n",
      "       ...,\n",
      "       [2707, 1473],\n",
      "       [2707, 2706],\n",
      "       [2707, 2707]], dtype=int32), array([1., 1., 1., ..., 1., 1., 1.], dtype=float32), (2708, 2708))\n",
      "[   0  633 1862 ... 1473 2706 2707]\n",
      "[   0    0    0 ... 2707 2707 2707]\n"
     ]
    }
   ],
   "source": [
    "# prepare the data\n",
    "adj_tf, row,col = transd_process.prepare_graph_data(adj)\n",
    "print(type(adj_tf),type(row),type(col))\n",
    "print(adj_tf)\n",
    "print(row)\n",
    "print(col)"
   ]
  },
  {
   "cell_type": "code",
   "execution_count": 6,
   "metadata": {
    "hidden": true
   },
   "outputs": [
    {
     "name": "stdout",
     "output_type": "stream",
     "text": [
      "[1433, 512, 128]\n"
     ]
    }
   ],
   "source": [
    "# 隐藏层\n",
    "feature_dim = X.shape[1]\n",
    "args.hidden_dims = [feature_dim] + args.hidden_dims\n",
    "print(args.hidden_dims)"
   ]
  },
  {
   "cell_type": "markdown",
   "metadata": {},
   "source": [
    "### Model"
   ]
  },
  {
   "cell_type": "code",
   "execution_count": 7,
   "metadata": {},
   "outputs": [],
   "source": [
    "class GATRE():\n",
    "    def __init__(self, args,A):\n",
    "        tf.reset_default_graph()\n",
    "        tf.set_random_seed(args.seed)\n",
    "        np.random.seed(args.seed)\n",
    "        \n",
    "        \n",
    "        self.args = args\n",
    "        #self.lambda_ = args.lambda_\n",
    "        self.n_layers = len(args.hidden_dims) -1\n",
    "\n",
    "        self.build_placeholders()\n",
    "        self.W, self.v = self.define_weights(args.hidden_dims)\n",
    "        self.C = {}\n",
    "        hops = hopu.get_hops(A, args.K)\n",
    "        #k-hops邻居节点个数  dict,scale_terms[-1] 为按节点号为顺序号的节点 不可达的节点数\n",
    "        scale_terms = {h if h != -1 else max(hops.keys()) + 1:\n",
    "                           hops[h].sum(1).A1 if h != -1 else hops[1].shape[0] - hops[h].sum(1).A1\n",
    "                       for h in hops}\n",
    "        \n",
    "\n",
    "        self.__dataset_generator(hops, scale_terms)\n",
    "        \n",
    "        self.build_model()\n",
    "\n",
    "        self.build_loss()\n",
    "        \n",
    "\n",
    "    def build_placeholders(self):\n",
    "        self.A = tf.sparse_placeholder(dtype=tf.float32)\n",
    "        self.X = tf.placeholder(dtype=tf.float32)\n",
    "        self.row = tf.placeholder(tf.int64)\n",
    "        self.col = tf.placeholder(tf.int64)  \n",
    "\n",
    "    def define_weights(self, hidden_dims):\n",
    "        W = {}\n",
    "        for i in range(self.n_layers):\n",
    "            W[i] = tf.get_variable(\"W%s\" % i, shape=(hidden_dims[i], hidden_dims[i+1]))\n",
    "\n",
    "        Ws_att = {}\n",
    "        for i in range(self.n_layers):\n",
    "            v = {}\n",
    "            v[0] = tf.get_variable(\"v%s_0\" % i, shape=(hidden_dims[i+1], 1))\n",
    "            v[1] = tf.get_variable(\"v%s_1\" % i, shape=(hidden_dims[i+1], 1))\n",
    "            Ws_att[i] = v\n",
    "\n",
    "        return W, Ws_att\n",
    "    \n",
    "    def build_model(self):\n",
    "        # Encoder\n",
    "        H = self.X\n",
    "        for layer_i in range(self.n_layers):\n",
    "            H = self.__encoder(self.A, H, layer_i)\n",
    "\n",
    "        # Final node representations\n",
    "        self.H = H\n",
    "        \n",
    "        for layer_i in range(self.n_layers - 1, -1, -1):\n",
    "            H = self.__decoder(H, layer_i)\n",
    "        #reconstruct X\n",
    "        self.X_ = H\n",
    "        \n",
    "    def build_loss(self):\n",
    "            self.__build_tri_loss()\n",
    "            \n",
    "            self.features_loss = tf.sqrt(tf.reduce_sum(tf.reduce_sum(tf.pow(self.X - self.X_, 2),axis=-1)))\n",
    "            # The reconstruction loss of the graph structure\n",
    "            S_emb = tf.nn.embedding_lookup(self.H, self.row)\n",
    "            R_emb = tf.nn.embedding_lookup(self.H, self.col)\n",
    "\n",
    "            sim = self.__sim(S_emb,R_emb)\n",
    "            \n",
    "            structure_loss = -tf.log(sim)\n",
    "            self.structure_loss = tf.reduce_sum(structure_loss)/self.args.lambd1#10\n",
    "            self.loss = self.features_loss +  self.loss_tri + self.structure_loss        \n",
    "            \n",
    "    def __build_tri_loss(self):\n",
    "        hop_pos = tf.stack([self.triplets[:, 0], self.triplets[:, 1]], 1)\n",
    "        hop_neg = tf.stack([self.triplets[:, 0], self.triplets[:, 2]], 1)\n",
    "        anchor = tf.gather(self.H,hop_pos[:,0])\n",
    "        pos = tf.gather(self.H,hop_pos[:,1])\n",
    "        neg = tf.gather(self.H,hop_neg[:,1])\n",
    "        \n",
    "        sim_p = self.__sim(pos,anchor)\n",
    "        sim_n = self.__sim(neg,anchor)\n",
    "        loss_0 = -sim_p+sim_n+self.args.beta #0.5\n",
    "        loss_tri = tf.gather(loss_0,tf.where(tf.greater(loss_0,0)))\n",
    "        self.loss_tri = tf.reduce_sum(loss_tri)/self.args.lambd2 #/100 #20#100\n",
    "        \n",
    "    def __sim(self,n1,n2):\n",
    "        #self.features_loss = tf.sqrt(tf.reduce_sum(tf.reduce_sum(tf.pow(self.X - self.X_, 2),axis=-1)))\n",
    "        fz = tf.reduce_sum(n1 * n2,axis=-1)\n",
    "        fm1 = tf.sqrt(tf.reduce_sum(tf.pow(n1,2),axis=-1))\n",
    "        fm2 = tf.sqrt(tf.reduce_sum(tf.pow(n2,2),axis=-1))\n",
    "        fm = fm1*fm2\n",
    "        return fz/fm\n",
    "    def __dataset_generator(self, hops, scale_terms):\n",
    "        def gen():\n",
    "            while True:\n",
    "                yield hopu.to_triplets(hopu.sample_all_hops(hops), scale_terms)\n",
    "\n",
    "        dataset = tf.data.Dataset.from_generator(gen, (tf.int32, tf.float32), ([None, 3], [None]))\n",
    "        self.triplets, self.scale_terms = dataset.prefetch(1).make_one_shot_iterator().get_next()\n",
    "        \n",
    "    def train(self, A,X,row,col,gpu= True):\n",
    "        \n",
    "        config = tf.ConfigProto()\n",
    "        config.gpu_options.allow_growth = True\n",
    "        if gpu == False:\n",
    "            config.intra_op_parallelism_threads = 0\n",
    "            config.inter_op_parallelism_threads = 0\n",
    "        self.session = tf.Session(config=config)\n",
    "        \n",
    "        self.train_op = tf.train.AdamOptimizer(learning_rate=self.args.lr).minimize(self.loss)\n",
    "        \n",
    "        self.session.run([tf.global_variables_initializer(), tf.local_variables_initializer()])\n",
    "        \n",
    "        for epoch in range(self.args.n_epochs):\n",
    "            loss,_,l_x,l_s,l_t = self.session.run([self.loss,self.train_op,self.features_loss,\\\n",
    "                                          self.structure_loss,self.loss_tri],\n",
    "                                             feed_dict={self.A: A,\n",
    "                                                        self.X: X,\n",
    "                                                        self.row: row,\n",
    "                                                        self.col: col})\n",
    "\n",
    "            print(\"Epoch: %s, Loss: %.2f, X_Loss:%.2f, S_Loss:%.2f, T_Loss:%.2f\" % (epoch, loss,l_x,l_s,l_t))\n",
    "        return loss,self.session\n",
    "        \n",
    "\n",
    "    def infer(self, A,X,row,col):\n",
    "        H, C = self.session.run([self.H, self.C],\n",
    "                           feed_dict={self.A: A,\n",
    "                                      self.X: X,\n",
    "                                      self.row: row,\n",
    "                                      self.col: col})\n",
    "        return H, spu.conver_sparse_tf2np(C)\n",
    "    def __encoder(self, A, H, layer_i):\n",
    "\n",
    "        H = tf.matmul(H, self.W[layer_i])\n",
    "        self.C[layer_i] = self.graph_attention_layer(A, H, self.v[layer_i], layer_i)\n",
    "        return tf.sparse_tensor_dense_matmul(self.C[layer_i], H)\n",
    "    #@pysnooper.snoop()\n",
    "    def __decoder(self, H, layer_i):\n",
    "        H = tf.matmul(H, self.W[layer_i], transpose_b=True)\n",
    "        return H\n",
    "\n",
    "    def graph_attention_layer(self, A, M, v, layer):\n",
    "        with tf.variable_scope(\"layer_%s\"% layer):\n",
    "            f1 = tf.matmul(M, v[0])\n",
    "            f1 = A * f1\n",
    "            f2 = tf.matmul(M, v[1])\n",
    "            f2 = A * tf.transpose(f2, [1, 0])\n",
    "            logits = tf.sparse_add(f1, f2)\n",
    "\n",
    "            unnormalized_attentions = tf.SparseTensor(indices=logits.indices,\n",
    "                                         values=tf.nn.sigmoid(logits.values),\n",
    "                                         dense_shape=logits.dense_shape)\n",
    "            attentions = tf.sparse_softmax(unnormalized_attentions)\n",
    "\n",
    "            attentions = tf.SparseTensor(indices=attentions.indices,\n",
    "                                         values=attentions.values,\n",
    "                                         dense_shape=attentions.dense_shape)\n",
    "\n",
    "            return attentions    \n",
    "        "
   ]
  },
  {
   "cell_type": "markdown",
   "metadata": {},
   "source": [
    "### Train"
   ]
  },
  {
   "cell_type": "code",
   "execution_count": 8,
   "metadata": {},
   "outputs": [
    {
     "name": "stdout",
     "output_type": "stream",
     "text": [
      "WARNING:tensorflow:From /usr/local/lib/python3.6/dist-packages/tensorflow/python/framework/op_def_library.py:263: colocate_with (from tensorflow.python.framework.ops) is deprecated and will be removed in a future version.\n",
      "Instructions for updating:\n",
      "Colocations handled automatically by placer.\n",
      "WARNING:tensorflow:From /usr/local/lib/python3.6/dist-packages/tensorflow/python/data/ops/dataset_ops.py:429: py_func (from tensorflow.python.ops.script_ops) is deprecated and will be removed in a future version.\n",
      "Instructions for updating:\n",
      "tf.py_func is deprecated in TF V2. Instead, use\n",
      "    tf.py_function, which takes a python function which manipulates tf eager\n",
      "    tensors instead of numpy arrays. It's easy to convert a tf eager tensor to\n",
      "    an ndarray (just call tensor.numpy()) but having access to eager tensors\n",
      "    means `tf.py_function`s can use accelerators such as GPUs as well as\n",
      "    being differentiable using a gradient tape.\n",
      "    \n"
     ]
    }
   ],
   "source": [
    "model = GATRE(args,adj)"
   ]
  },
  {
   "cell_type": "code",
   "execution_count": 9,
   "metadata": {
    "code_folding": [],
    "scrolled": false
   },
   "outputs": [
    {
     "name": "stdout",
     "output_type": "stream",
     "text": [
      "WARNING:tensorflow:From /usr/local/lib/python3.6/dist-packages/tensorflow/python/ops/math_ops.py:3066: to_int32 (from tensorflow.python.ops.math_ops) is deprecated and will be removed in a future version.\n",
      "Instructions for updating:\n",
      "Use tf.cast instead.\n",
      "WARNING:tensorflow:From /usr/local/lib/python3.6/dist-packages/tensorflow/python/ops/sparse_grad.py:281: calling sparse_reduce_sum (from tensorflow.python.ops.sparse_ops) with keep_dims is deprecated and will be removed in a future version.\n",
      "Instructions for updating:\n",
      "keep_dims is deprecated, use keepdims instead\n",
      "WARNING:tensorflow:From /usr/local/lib/python3.6/dist-packages/tensorflow/python/ops/sparse_grad.py:216: to_int64 (from tensorflow.python.ops.math_ops) is deprecated and will be removed in a future version.\n",
      "Instructions for updating:\n",
      "Use tf.cast instead.\n",
      "Epoch: 0, Loss: 308.40, X_Loss:144.12, S_Loss:103.53, T_Loss:60.76\n",
      "Epoch: 1, Loss: 302.14, X_Loss:144.61, S_Loss:93.11, T_Loss:64.42\n",
      "Epoch: 2, Loss: 297.95, X_Loss:145.11, S_Loss:84.21, T_Loss:68.63\n",
      "Epoch: 3, Loss: 294.21, X_Loss:145.53, S_Loss:76.81, T_Loss:71.87\n",
      "Epoch: 4, Loss: 291.74, X_Loss:145.81, S_Loss:70.75, T_Loss:75.18\n",
      "Epoch: 5, Loss: 288.53, X_Loss:145.91, S_Loss:65.85, T_Loss:76.77\n",
      "Epoch: 6, Loss: 287.32, X_Loss:145.80, S_Loss:61.95, T_Loss:79.57\n",
      "Epoch: 7, Loss: 285.95, X_Loss:145.48, S_Loss:58.86, T_Loss:81.61\n",
      "Epoch: 8, Loss: 283.45, X_Loss:144.98, S_Loss:56.43, T_Loss:82.05\n",
      "Epoch: 9, Loss: 282.56, X_Loss:144.33, S_Loss:54.53, T_Loss:83.69\n",
      "Epoch: 10, Loss: 280.24, X_Loss:143.57, S_Loss:53.06, T_Loss:83.61\n",
      "Epoch: 11, Loss: 279.00, X_Loss:142.74, S_Loss:51.93, T_Loss:84.33\n",
      "Epoch: 12, Loss: 277.08, X_Loss:141.88, S_Loss:51.08, T_Loss:84.13\n",
      "Epoch: 13, Loss: 275.76, X_Loss:141.01, S_Loss:50.44, T_Loss:84.31\n",
      "Epoch: 14, Loss: 274.30, X_Loss:140.16, S_Loss:49.96, T_Loss:84.18\n",
      "Epoch: 15, Loss: 273.22, X_Loss:139.35, S_Loss:49.61, T_Loss:84.26\n",
      "Epoch: 16, Loss: 271.54, X_Loss:138.58, S_Loss:49.34, T_Loss:83.62\n",
      "Epoch: 17, Loss: 270.14, X_Loss:137.87, S_Loss:49.14, T_Loss:83.13\n",
      "Epoch: 18, Loss: 268.30, X_Loss:137.21, S_Loss:48.97, T_Loss:82.13\n",
      "Epoch: 19, Loss: 267.73, X_Loss:136.60, S_Loss:48.81, T_Loss:82.32\n",
      "Epoch: 20, Loss: 267.16, X_Loss:136.04, S_Loss:48.65, T_Loss:82.47\n",
      "Epoch: 21, Loss: 265.80, X_Loss:135.53, S_Loss:48.48, T_Loss:81.79\n",
      "Epoch: 22, Loss: 265.12, X_Loss:135.06, S_Loss:48.28, T_Loss:81.77\n",
      "Epoch: 23, Loss: 263.11, X_Loss:134.62, S_Loss:48.05, T_Loss:80.44\n",
      "Epoch: 24, Loss: 262.37, X_Loss:134.22, S_Loss:47.77, T_Loss:80.38\n",
      "Epoch: 25, Loss: 261.54, X_Loss:133.84, S_Loss:47.45, T_Loss:80.26\n",
      "Epoch: 26, Loss: 261.09, X_Loss:133.47, S_Loss:47.09, T_Loss:80.53\n",
      "Epoch: 27, Loss: 260.29, X_Loss:133.13, S_Loss:46.68, T_Loss:80.49\n",
      "Epoch: 28, Loss: 259.11, X_Loss:132.79, S_Loss:46.24, T_Loss:80.09\n",
      "Epoch: 29, Loss: 258.65, X_Loss:132.46, S_Loss:45.77, T_Loss:80.42\n",
      "Epoch: 30, Loss: 257.72, X_Loss:132.13, S_Loss:45.27, T_Loss:80.31\n",
      "Epoch: 31, Loss: 256.89, X_Loss:131.81, S_Loss:44.76, T_Loss:80.32\n",
      "Epoch: 32, Loss: 256.18, X_Loss:131.49, S_Loss:44.23, T_Loss:80.46\n",
      "Epoch: 33, Loss: 255.40, X_Loss:131.17, S_Loss:43.69, T_Loss:80.54\n",
      "Epoch: 34, Loss: 254.62, X_Loss:130.85, S_Loss:43.15, T_Loss:80.61\n",
      "Epoch: 35, Loss: 254.28, X_Loss:130.54, S_Loss:42.63, T_Loss:81.12\n",
      "Epoch: 36, Loss: 253.39, X_Loss:130.22, S_Loss:42.11, T_Loss:81.05\n",
      "Epoch: 37, Loss: 252.50, X_Loss:129.91, S_Loss:41.61, T_Loss:80.99\n",
      "Epoch: 38, Loss: 251.59, X_Loss:129.60, S_Loss:41.13, T_Loss:80.86\n",
      "Epoch: 39, Loss: 250.14, X_Loss:129.30, S_Loss:40.67, T_Loss:80.17\n",
      "Epoch: 40, Loss: 250.44, X_Loss:129.00, S_Loss:40.23, T_Loss:81.21\n",
      "Epoch: 41, Loss: 249.68, X_Loss:128.70, S_Loss:39.82, T_Loss:81.15\n",
      "Epoch: 42, Loss: 249.54, X_Loss:128.42, S_Loss:39.43, T_Loss:81.69\n",
      "Epoch: 43, Loss: 249.04, X_Loss:128.14, S_Loss:39.08, T_Loss:81.83\n",
      "Epoch: 44, Loss: 248.68, X_Loss:127.86, S_Loss:38.75, T_Loss:82.07\n",
      "Epoch: 45, Loss: 248.72, X_Loss:127.60, S_Loss:38.46, T_Loss:82.67\n",
      "Epoch: 46, Loss: 247.54, X_Loss:127.34, S_Loss:38.20, T_Loss:82.00\n",
      "Epoch: 47, Loss: 246.82, X_Loss:127.09, S_Loss:37.96, T_Loss:81.77\n",
      "Epoch: 48, Loss: 246.42, X_Loss:126.84, S_Loss:37.76, T_Loss:81.82\n",
      "Epoch: 49, Loss: 246.65, X_Loss:126.61, S_Loss:37.58, T_Loss:82.47\n",
      "Epoch: 50, Loss: 245.58, X_Loss:126.38, S_Loss:37.42, T_Loss:81.79\n",
      "Epoch: 51, Loss: 245.66, X_Loss:126.15, S_Loss:37.26, T_Loss:82.24\n",
      "Epoch: 52, Loss: 244.65, X_Loss:125.93, S_Loss:37.12, T_Loss:81.59\n",
      "Epoch: 53, Loss: 244.59, X_Loss:125.72, S_Loss:36.98, T_Loss:81.88\n",
      "Epoch: 54, Loss: 244.28, X_Loss:125.51, S_Loss:36.85, T_Loss:81.92\n",
      "Epoch: 55, Loss: 243.89, X_Loss:125.30, S_Loss:36.72, T_Loss:81.86\n",
      "Epoch: 56, Loss: 243.26, X_Loss:125.10, S_Loss:36.59, T_Loss:81.57\n",
      "Epoch: 57, Loss: 243.02, X_Loss:124.90, S_Loss:36.46, T_Loss:81.66\n",
      "Epoch: 58, Loss: 242.47, X_Loss:124.71, S_Loss:36.33, T_Loss:81.43\n",
      "Epoch: 59, Loss: 242.40, X_Loss:124.52, S_Loss:36.20, T_Loss:81.67\n",
      "Epoch: 60, Loss: 241.95, X_Loss:124.34, S_Loss:36.08, T_Loss:81.53\n",
      "Epoch: 61, Loss: 241.61, X_Loss:124.16, S_Loss:35.96, T_Loss:81.48\n",
      "Epoch: 62, Loss: 241.33, X_Loss:123.99, S_Loss:35.85, T_Loss:81.49\n",
      "Epoch: 63, Loss: 240.74, X_Loss:123.82, S_Loss:35.73, T_Loss:81.20\n",
      "Epoch: 64, Loss: 241.21, X_Loss:123.65, S_Loss:35.61, T_Loss:81.95\n",
      "Epoch: 65, Loss: 239.78, X_Loss:123.49, S_Loss:35.48, T_Loss:80.81\n",
      "Epoch: 66, Loss: 240.15, X_Loss:123.33, S_Loss:35.36, T_Loss:81.46\n",
      "Epoch: 67, Loss: 239.65, X_Loss:123.17, S_Loss:35.23, T_Loss:81.25\n",
      "Epoch: 68, Loss: 239.34, X_Loss:123.02, S_Loss:35.11, T_Loss:81.21\n",
      "Epoch: 69, Loss: 239.13, X_Loss:122.87, S_Loss:34.98, T_Loss:81.28\n",
      "Epoch: 70, Loss: 239.14, X_Loss:122.72, S_Loss:34.87, T_Loss:81.55\n",
      "Epoch: 71, Loss: 238.75, X_Loss:122.58, S_Loss:34.76, T_Loss:81.40\n",
      "Epoch: 72, Loss: 238.22, X_Loss:122.45, S_Loss:34.66, T_Loss:81.12\n",
      "Epoch: 73, Loss: 237.95, X_Loss:122.31, S_Loss:34.56, T_Loss:81.08\n",
      "Epoch: 74, Loss: 237.89, X_Loss:122.19, S_Loss:34.47, T_Loss:81.23\n",
      "Epoch: 75, Loss: 237.12, X_Loss:122.06, S_Loss:34.39, T_Loss:80.68\n",
      "Epoch: 76, Loss: 237.40, X_Loss:121.94, S_Loss:34.31, T_Loss:81.15\n",
      "Epoch: 77, Loss: 236.82, X_Loss:121.81, S_Loss:34.23, T_Loss:80.77\n",
      "Epoch: 78, Loss: 237.17, X_Loss:121.70, S_Loss:34.16, T_Loss:81.31\n",
      "Epoch: 79, Loss: 236.51, X_Loss:121.58, S_Loss:34.09, T_Loss:80.85\n",
      "Epoch: 80, Loss: 235.84, X_Loss:121.46, S_Loss:34.02, T_Loss:80.36\n",
      "Epoch: 81, Loss: 235.80, X_Loss:121.35, S_Loss:33.96, T_Loss:80.49\n",
      "Epoch: 82, Loss: 236.09, X_Loss:121.24, S_Loss:33.91, T_Loss:80.94\n",
      "Epoch: 83, Loss: 235.79, X_Loss:121.14, S_Loss:33.86, T_Loss:80.80\n",
      "Epoch: 84, Loss: 235.12, X_Loss:121.03, S_Loss:33.81, T_Loss:80.27\n",
      "Epoch: 85, Loss: 235.61, X_Loss:120.93, S_Loss:33.77, T_Loss:80.90\n",
      "Epoch: 86, Loss: 234.82, X_Loss:120.84, S_Loss:33.74, T_Loss:80.25\n",
      "Epoch: 87, Loss: 235.44, X_Loss:120.74, S_Loss:33.70, T_Loss:81.00\n",
      "Epoch: 88, Loss: 234.65, X_Loss:120.64, S_Loss:33.65, T_Loss:80.36\n",
      "Epoch: 89, Loss: 234.29, X_Loss:120.55, S_Loss:33.61, T_Loss:80.13\n",
      "Epoch: 90, Loss: 234.63, X_Loss:120.45, S_Loss:33.57, T_Loss:80.61\n",
      "Epoch: 91, Loss: 233.88, X_Loss:120.36, S_Loss:33.53, T_Loss:79.99\n",
      "Epoch: 92, Loss: 234.41, X_Loss:120.27, S_Loss:33.48, T_Loss:80.66\n",
      "Epoch: 93, Loss: 234.00, X_Loss:120.18, S_Loss:33.44, T_Loss:80.37\n",
      "Epoch: 94, Loss: 233.82, X_Loss:120.10, S_Loss:33.42, T_Loss:80.29\n",
      "Epoch: 95, Loss: 233.51, X_Loss:120.01, S_Loss:33.39, T_Loss:80.11\n",
      "Epoch: 96, Loss: 233.85, X_Loss:119.93, S_Loss:33.35, T_Loss:80.57\n",
      "Epoch: 97, Loss: 233.47, X_Loss:119.84, S_Loss:33.31, T_Loss:80.32\n",
      "Epoch: 98, Loss: 232.91, X_Loss:119.76, S_Loss:33.26, T_Loss:79.89\n",
      "Epoch: 99, Loss: 233.13, X_Loss:119.68, S_Loss:33.23, T_Loss:80.22\n",
      "Epoch: 100, Loss: 232.83, X_Loss:119.60, S_Loss:33.19, T_Loss:80.05\n",
      "Epoch: 101, Loss: 233.62, X_Loss:119.52, S_Loss:33.14, T_Loss:80.96\n",
      "Epoch: 102, Loss: 232.71, X_Loss:119.44, S_Loss:33.11, T_Loss:80.16\n",
      "Epoch: 103, Loss: 233.05, X_Loss:119.36, S_Loss:33.06, T_Loss:80.63\n",
      "Epoch: 104, Loss: 232.69, X_Loss:119.28, S_Loss:33.01, T_Loss:80.40\n",
      "Epoch: 105, Loss: 232.29, X_Loss:119.21, S_Loss:32.97, T_Loss:80.11\n",
      "Epoch: 106, Loss: 231.78, X_Loss:119.13, S_Loss:32.94, T_Loss:79.70\n",
      "Epoch: 107, Loss: 231.83, X_Loss:119.06, S_Loss:32.93, T_Loss:79.84\n",
      "Epoch: 108, Loss: 232.25, X_Loss:118.99, S_Loss:32.91, T_Loss:80.35\n",
      "Epoch: 109, Loss: 231.30, X_Loss:118.92, S_Loss:32.89, T_Loss:79.49\n"
     ]
    },
    {
     "name": "stdout",
     "output_type": "stream",
     "text": [
      "Epoch: 110, Loss: 231.65, X_Loss:118.85, S_Loss:32.86, T_Loss:79.93\n",
      "Epoch: 111, Loss: 231.42, X_Loss:118.78, S_Loss:32.84, T_Loss:79.80\n",
      "Epoch: 112, Loss: 231.67, X_Loss:118.72, S_Loss:32.81, T_Loss:80.15\n",
      "Epoch: 113, Loss: 231.46, X_Loss:118.65, S_Loss:32.79, T_Loss:80.03\n",
      "Epoch: 114, Loss: 230.71, X_Loss:118.58, S_Loss:32.76, T_Loss:79.37\n",
      "Epoch: 115, Loss: 230.41, X_Loss:118.52, S_Loss:32.74, T_Loss:79.15\n",
      "Epoch: 116, Loss: 231.15, X_Loss:118.46, S_Loss:32.73, T_Loss:79.96\n",
      "Epoch: 117, Loss: 230.64, X_Loss:118.40, S_Loss:32.73, T_Loss:79.51\n",
      "Epoch: 118, Loss: 230.77, X_Loss:118.34, S_Loss:32.73, T_Loss:79.70\n",
      "Epoch: 119, Loss: 230.85, X_Loss:118.28, S_Loss:32.73, T_Loss:79.85\n",
      "Epoch: 120, Loss: 230.43, X_Loss:118.22, S_Loss:32.72, T_Loss:79.49\n",
      "Epoch: 121, Loss: 230.00, X_Loss:118.17, S_Loss:32.71, T_Loss:79.12\n",
      "Epoch: 122, Loss: 229.79, X_Loss:118.11, S_Loss:32.69, T_Loss:78.99\n",
      "Epoch: 123, Loss: 230.45, X_Loss:118.05, S_Loss:32.66, T_Loss:79.74\n",
      "Epoch: 124, Loss: 230.24, X_Loss:117.99, S_Loss:32.62, T_Loss:79.63\n",
      "Epoch: 125, Loss: 230.53, X_Loss:117.92, S_Loss:32.59, T_Loss:80.02\n",
      "Epoch: 126, Loss: 230.52, X_Loss:117.86, S_Loss:32.54, T_Loss:80.11\n",
      "Epoch: 127, Loss: 229.94, X_Loss:117.80, S_Loss:32.49, T_Loss:79.66\n",
      "Epoch: 128, Loss: 229.30, X_Loss:117.74, S_Loss:32.42, T_Loss:79.14\n",
      "Epoch: 129, Loss: 229.25, X_Loss:117.68, S_Loss:32.37, T_Loss:79.20\n",
      "Epoch: 130, Loss: 229.16, X_Loss:117.62, S_Loss:32.32, T_Loss:79.22\n",
      "Epoch: 131, Loss: 229.51, X_Loss:117.56, S_Loss:32.28, T_Loss:79.67\n",
      "Epoch: 132, Loss: 229.44, X_Loss:117.51, S_Loss:32.25, T_Loss:79.67\n",
      "Epoch: 133, Loss: 228.93, X_Loss:117.46, S_Loss:32.24, T_Loss:79.24\n",
      "Epoch: 134, Loss: 229.02, X_Loss:117.41, S_Loss:32.25, T_Loss:79.36\n",
      "Epoch: 135, Loss: 228.89, X_Loss:117.36, S_Loss:32.26, T_Loss:79.27\n",
      "Epoch: 136, Loss: 229.13, X_Loss:117.32, S_Loss:32.29, T_Loss:79.52\n",
      "Epoch: 137, Loss: 229.16, X_Loss:117.28, S_Loss:32.30, T_Loss:79.57\n",
      "Epoch: 138, Loss: 228.90, X_Loss:117.23, S_Loss:32.31, T_Loss:79.36\n",
      "Epoch: 139, Loss: 228.60, X_Loss:117.18, S_Loss:32.30, T_Loss:79.11\n",
      "Epoch: 140, Loss: 228.74, X_Loss:117.14, S_Loss:32.30, T_Loss:79.30\n",
      "Epoch: 141, Loss: 228.23, X_Loss:117.09, S_Loss:32.30, T_Loss:78.85\n",
      "Epoch: 142, Loss: 229.04, X_Loss:117.04, S_Loss:32.29, T_Loss:79.72\n",
      "Epoch: 143, Loss: 228.19, X_Loss:116.99, S_Loss:32.27, T_Loss:78.93\n",
      "Epoch: 144, Loss: 228.73, X_Loss:116.95, S_Loss:32.26, T_Loss:79.52\n",
      "Epoch: 145, Loss: 228.04, X_Loss:116.91, S_Loss:32.27, T_Loss:78.87\n",
      "Epoch: 146, Loss: 228.02, X_Loss:116.86, S_Loss:32.26, T_Loss:78.90\n",
      "Epoch: 147, Loss: 227.77, X_Loss:116.82, S_Loss:32.25, T_Loss:78.70\n",
      "Epoch: 148, Loss: 226.81, X_Loss:116.77, S_Loss:32.24, T_Loss:77.79\n",
      "Epoch: 149, Loss: 228.19, X_Loss:116.73, S_Loss:32.24, T_Loss:79.22\n",
      "Epoch: 150, Loss: 227.31, X_Loss:116.69, S_Loss:32.24, T_Loss:78.38\n",
      "Epoch: 151, Loss: 227.93, X_Loss:116.65, S_Loss:32.23, T_Loss:79.05\n",
      "Epoch: 152, Loss: 227.93, X_Loss:116.61, S_Loss:32.20, T_Loss:79.12\n",
      "Epoch: 153, Loss: 227.09, X_Loss:116.56, S_Loss:32.17, T_Loss:78.35\n",
      "Epoch: 154, Loss: 227.35, X_Loss:116.52, S_Loss:32.14, T_Loss:78.69\n",
      "Epoch: 155, Loss: 227.25, X_Loss:116.48, S_Loss:32.12, T_Loss:78.66\n",
      "Epoch: 156, Loss: 227.29, X_Loss:116.44, S_Loss:32.10, T_Loss:78.75\n",
      "Epoch: 157, Loss: 226.83, X_Loss:116.39, S_Loss:32.07, T_Loss:78.37\n",
      "Epoch: 158, Loss: 227.22, X_Loss:116.35, S_Loss:32.04, T_Loss:78.83\n",
      "Epoch: 159, Loss: 226.78, X_Loss:116.31, S_Loss:32.03, T_Loss:78.44\n",
      "Epoch: 160, Loss: 226.87, X_Loss:116.26, S_Loss:31.99, T_Loss:78.62\n",
      "Epoch: 161, Loss: 227.20, X_Loss:116.22, S_Loss:31.97, T_Loss:79.01\n",
      "Epoch: 162, Loss: 226.67, X_Loss:116.18, S_Loss:31.94, T_Loss:78.55\n",
      "Epoch: 163, Loss: 227.26, X_Loss:116.14, S_Loss:31.91, T_Loss:79.21\n",
      "Epoch: 164, Loss: 226.69, X_Loss:116.10, S_Loss:31.90, T_Loss:78.69\n",
      "Epoch: 165, Loss: 226.40, X_Loss:116.06, S_Loss:31.91, T_Loss:78.42\n",
      "Epoch: 166, Loss: 227.75, X_Loss:116.03, S_Loss:31.94, T_Loss:79.78\n",
      "Epoch: 167, Loss: 226.48, X_Loss:116.00, S_Loss:31.96, T_Loss:78.53\n",
      "Epoch: 168, Loss: 226.05, X_Loss:115.96, S_Loss:31.96, T_Loss:78.13\n",
      "Epoch: 169, Loss: 226.73, X_Loss:115.92, S_Loss:31.96, T_Loss:78.84\n",
      "Epoch: 170, Loss: 226.44, X_Loss:115.89, S_Loss:31.96, T_Loss:78.60\n",
      "Epoch: 171, Loss: 226.00, X_Loss:115.85, S_Loss:31.94, T_Loss:78.21\n",
      "Epoch: 172, Loss: 226.20, X_Loss:115.81, S_Loss:31.93, T_Loss:78.47\n",
      "Epoch: 173, Loss: 226.13, X_Loss:115.76, S_Loss:31.90, T_Loss:78.47\n",
      "Epoch: 174, Loss: 226.06, X_Loss:115.72, S_Loss:31.89, T_Loss:78.44\n",
      "Epoch: 175, Loss: 226.12, X_Loss:115.68, S_Loss:31.87, T_Loss:78.57\n",
      "Epoch: 176, Loss: 226.29, X_Loss:115.65, S_Loss:31.86, T_Loss:78.78\n",
      "Epoch: 177, Loss: 225.63, X_Loss:115.61, S_Loss:31.85, T_Loss:78.17\n",
      "Epoch: 178, Loss: 225.75, X_Loss:115.57, S_Loss:31.85, T_Loss:78.33\n",
      "Epoch: 179, Loss: 225.92, X_Loss:115.54, S_Loss:31.85, T_Loss:78.53\n",
      "Epoch: 180, Loss: 225.57, X_Loss:115.50, S_Loss:31.85, T_Loss:78.22\n",
      "Epoch: 181, Loss: 225.09, X_Loss:115.46, S_Loss:31.84, T_Loss:77.78\n",
      "Epoch: 182, Loss: 226.16, X_Loss:115.43, S_Loss:31.84, T_Loss:78.89\n",
      "Epoch: 183, Loss: 226.14, X_Loss:115.40, S_Loss:31.84, T_Loss:78.90\n",
      "Epoch: 184, Loss: 225.47, X_Loss:115.36, S_Loss:31.84, T_Loss:78.27\n",
      "Epoch: 185, Loss: 225.37, X_Loss:115.33, S_Loss:31.85, T_Loss:78.19\n",
      "Epoch: 186, Loss: 225.69, X_Loss:115.30, S_Loss:31.86, T_Loss:78.53\n",
      "Epoch: 187, Loss: 226.25, X_Loss:115.27, S_Loss:31.86, T_Loss:79.11\n",
      "Epoch: 188, Loss: 225.33, X_Loss:115.24, S_Loss:31.87, T_Loss:78.23\n",
      "Epoch: 189, Loss: 225.38, X_Loss:115.21, S_Loss:31.87, T_Loss:78.30\n",
      "Epoch: 190, Loss: 224.73, X_Loss:115.18, S_Loss:31.85, T_Loss:77.70\n",
      "Epoch: 191, Loss: 224.86, X_Loss:115.15, S_Loss:31.85, T_Loss:77.86\n",
      "Epoch: 192, Loss: 225.45, X_Loss:115.12, S_Loss:31.86, T_Loss:78.48\n",
      "Epoch: 193, Loss: 224.89, X_Loss:115.09, S_Loss:31.85, T_Loss:77.95\n",
      "Epoch: 194, Loss: 224.42, X_Loss:115.06, S_Loss:31.84, T_Loss:77.52\n",
      "Epoch: 195, Loss: 225.41, X_Loss:115.02, S_Loss:31.82, T_Loss:78.57\n",
      "Epoch: 196, Loss: 224.77, X_Loss:114.99, S_Loss:31.81, T_Loss:77.96\n",
      "Epoch: 197, Loss: 225.51, X_Loss:114.96, S_Loss:31.79, T_Loss:78.75\n",
      "Epoch: 198, Loss: 224.05, X_Loss:114.93, S_Loss:31.77, T_Loss:77.35\n",
      "Epoch: 199, Loss: 224.40, X_Loss:114.90, S_Loss:31.74, T_Loss:77.76\n"
     ]
    }
   ],
   "source": [
    "#loss,sess,l_x,l_s = model.train(adj_tf,X,row,col,gpu= True)\n",
    "loss,sess = model.train(adj_tf,X_target,row,col,gpu= True)"
   ]
  },
  {
   "cell_type": "code",
   "execution_count": 10,
   "metadata": {},
   "outputs": [],
   "source": [
    "embeddings, attentions = model.infer(adj_tf,X,row,col)\n",
    "\n",
    "# Evaluate the quality of embeddings\n",
    "classifier = Classifier(embeddings,Y)\n"
   ]
  },
  {
   "cell_type": "code",
   "execution_count": 11,
   "metadata": {},
   "outputs": [
    {
     "name": "stdout",
     "output_type": "stream",
     "text": [
      "Micro_f1: 0.8457, Macro_f1: 0.8339\n"
     ]
    }
   ],
   "source": [
    "\n",
    "f1_micro, f1_macro = classifier.cross_validation_classify(n_repeat=10, norm=True)\n",
    "print('Micro_f1: {:.4f}, Macro_f1: {:.4f}'.format(f1_micro, f1_macro))"
   ]
  },
  {
   "cell_type": "code",
   "execution_count": 12,
   "metadata": {},
   "outputs": [
    {
     "name": "stdout",
     "output_type": "stream",
     "text": [
      "0.9967508669891202\n"
     ]
    },
    {
     "data": {
      "image/png": "[encoded data removed]",
      "text/plain": [
       "<Figure size 432x288 with 1 Axes>"
      ]
     },
     "metadata": {
      "needs_background": "light"
     },
     "output_type": "display_data"
    }
   ],
   "source": [
    "auc_score,_= classifier.auc_ap_scores(adj)\n",
    "print(auc_score)\n",
    "fpr, tpr, thresholds = classifier._roc_curve(adj)\n",
    "\n",
    "plt.plot(fpr,tpr)\n",
    "plt.show()"
   ]
  },
  {
   "cell_type": "code",
   "execution_count": 13,
   "metadata": {},
   "outputs": [
    {
     "name": "stdout",
     "output_type": "stream",
     "text": [
      "(2708, 128)\n"
     ]
    }
   ],
   "source": [
    "print(embeddings.shape)\n",
    "from sklearn.manifold import TSNE\n",
    "tsne =  TSNE(n_components=2, learning_rate=100)\n",
    "data = tsne.fit_transform(embeddings)"
   ]
  },
  {
   "cell_type": "code",
   "execution_count": 14,
   "metadata": {},
   "outputs": [
    {
     "data": {
      "image/png": "[encoded data removed]",
      "text/plain": [
       "<Figure size 216x216 with 1 Axes>"
      ]
     },
     "metadata": {},
     "output_type": "display_data"
    }
   ],
   "source": [
    "\n",
    "\n",
    "color=[]\n",
    "\n",
    "C = np.argmax(Y, -1)\n",
    "for i in range(len(C)):\n",
    "    \n",
    "    if C[i] == 0:\n",
    "        color.append('green')\n",
    "    if C[i] == 1:\n",
    "        color.append('red')\n",
    "    if C[i] == 2:\n",
    "            color.append('deepskyblue') #blue\n",
    "    if C[i] == 3:\n",
    "            color.append('blue')\n",
    "    if C[i] == 4:\n",
    "            color.append('black')\n",
    "    if C[i] == 5:\n",
    "            color.append('purple')\n",
    "    if C[i] == 6:\n",
    "            color.append('olive')        \n",
    "#fig=plt.figure(figsize=(10,10),facecolor='white') #3,3\n",
    "#plt.scatter(data[:,0], data[:,1], s=20,c=color)  #1\n",
    "fig=plt.figure(figsize=(3,3),facecolor='white') #3,3\n",
    "plt.tick_params(labelsize=7)\n",
    "plt.scatter(data[:,0], data[:,1], s=1,c=color)  #1\n",
    "#foo_fig = plt.gcf() # 'get current figure'\n",
    "#foo_fig.savefig('cora.eps', format='eps', dpi=1000)\n",
    "#plt.savefig(args.dataset+'.eps')\n",
    "plt.savefig('%s.eps'%args.dataset)\n",
    "plt.show()    \n"
   ]
  },
  {
   "cell_type": "code",
   "execution_count": null,
   "metadata": {},
   "outputs": [],
   "source": []
  }
 ],
 "metadata": {
  "kernelspec": {
   "display_name": "Python 3",
   "language": "python",
   "name": "python3"
  },
  "language_info": {
   "codemirror_mode": {
    "name": "ipython",
    "version": 3
   },
   "file_extension": ".py",
   "mimetype": "text/x-python",
   "name": "python",
   "nbconvert_exporter": "python",
   "pygments_lexer": "ipython3",
   "version": "3.6.7"
  },
  "varInspector": {
   "cols": {
    "lenName": 16,
    "lenType": 16,
    "lenVar": 40
   },
   "kernels_config": {
    "python": {
     "delete_cmd_postfix": "",
     "delete_cmd_prefix": "del ",
     "library": "var_list.py",
     "varRefreshCmd": "print(var_dic_list())"
    },
    "r": {
     "delete_cmd_postfix": ") ",
     "delete_cmd_prefix": "rm(",
     "library": "var_list.r",
     "varRefreshCmd": "cat(var_dic_list()) "
    }
   },
   "types_to_exclude": [
    "module",
    "function",
    "builtin_function_or_method",
    "instance",
    "_Feature"
   ],
   "window_display": false
  }
 },
 "nbformat": 4,
 "nbformat_minor": 2
}
